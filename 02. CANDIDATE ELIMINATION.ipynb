{
 "cells": [
  {
   "cell_type": "code",
   "execution_count": 3,
   "metadata": {},
   "outputs": [
    {
     "name": "stdout",
     "output_type": "stream",
     "text": "[['sunny' 'warm' 'normal' 'strong' 'warm' 'same']\n ['sunny' 'warm' 'high' 'strong' 'warm' 'same']\n ['rainy' 'cold' 'high' 'strong' 'warm' 'change']\n ['sunny' 'warm' 'high' 'strong' 'cool' 'change']] \n\n['yes' 'yes' 'no' 'yes']\n"
    },
    {
     "data": {
      "text/html": "<div>\n<style scoped>\n    .dataframe tbody tr th:only-of-type {\n        vertical-align: middle;\n    }\n\n    .dataframe tbody tr th {\n        vertical-align: top;\n    }\n\n    .dataframe thead th {\n        text-align: right;\n    }\n</style>\n<table border=\"1\" class=\"dataframe\">\n  <thead>\n    <tr style=\"text-align: right;\">\n      <th></th>\n      <th>sky</th>\n      <th>airTemp</th>\n      <th>humidity</th>\n      <th>wind</th>\n      <th>water</th>\n      <th>forecast</th>\n      <th>enjoySport</th>\n    </tr>\n  </thead>\n  <tbody>\n    <tr>\n      <th>0</th>\n      <td>sunny</td>\n      <td>warm</td>\n      <td>normal</td>\n      <td>strong</td>\n      <td>warm</td>\n      <td>same</td>\n      <td>yes</td>\n    </tr>\n    <tr>\n      <th>1</th>\n      <td>sunny</td>\n      <td>warm</td>\n      <td>high</td>\n      <td>strong</td>\n      <td>warm</td>\n      <td>same</td>\n      <td>yes</td>\n    </tr>\n    <tr>\n      <th>2</th>\n      <td>rainy</td>\n      <td>cold</td>\n      <td>high</td>\n      <td>strong</td>\n      <td>warm</td>\n      <td>change</td>\n      <td>no</td>\n    </tr>\n    <tr>\n      <th>3</th>\n      <td>sunny</td>\n      <td>warm</td>\n      <td>high</td>\n      <td>strong</td>\n      <td>cool</td>\n      <td>change</td>\n      <td>yes</td>\n    </tr>\n  </tbody>\n</table>\n</div>",
      "text/plain": "     sky airTemp humidity    wind water forecast enjoySport\n0  sunny    warm   normal  strong  warm     same        yes\n1  sunny    warm     high  strong  warm     same        yes\n2  rainy    cold     high  strong  warm   change         no\n3  sunny    warm     high  strong  cool   change        yes"
     },
     "execution_count": 3,
     "metadata": {},
     "output_type": "execute_result"
    }
   ],
   "source": [
    "import pandas as pd\n",
    "df = pd.read_csv('Datasets/EnjoySport.csv')\n",
    "df = df.drop(['slno'], axis=1)\n",
    "concepts = df.values[:,:-1]\n",
    "print(concepts,\"\\n\")\n",
    "target = df.values[:,-1]\n",
    "print(target)\n",
    "df.head()"
   ]
  },
  {
   "cell_type": "code",
   "execution_count": 11,
   "metadata": {},
   "outputs": [],
   "source": [
    "def learn(concepts, target):\n",
    "    specific_h = concepts[0].copy()\n",
    "    general_h = [[\"?\" for i in range(len(specific_h))] for i in range(len(specific_h))]\n",
    "    # print(general_h)\n",
    "    for i, h in enumerate(concepts):\n",
    "        print(i,\"\\t\",h,\"\\n\")\n",
    "        if target[i] == \"yes\":\n",
    "            for x in range(len(specific_h)):\n",
    "                if h[x] != specific_h[x]:\n",
    "                    specific_h[x] = '?'\n",
    "                    general_h[x][x] = '?'\n",
    "            print(specific_h,\"\\t\",general_h)\n",
    "        if target[i] == \"no\":\n",
    "            for x in range(len(specific_h)):\n",
    "                if h[x] != specific_h[x]:\n",
    "                    general_h[x][x] = specific_h[x]\n",
    "                else:\n",
    "                    general_h[x][x] = '?'\n",
    "            print(\"\\n\\n\\n\")\n",
    "            print(general_h,\"\\n\")   \n",
    "    indices = [i for i, val in enumerate(general_h) if val == ['?','?','?','?','?','?']]\n",
    "    print(\"\\n\\n\",indices,\"\\n\\n\")\n",
    "    for i in indices:\n",
    "        general_h.remove(['?','?','?','?','?','?'])\n",
    "    return specific_h, general_h"
   ]
  },
  {
   "cell_type": "code",
   "execution_count": 12,
   "metadata": {},
   "outputs": [
    {
     "name": "stdout",
     "output_type": "stream",
     "text": "0 \t ['sunny' 'warm' 'normal' 'strong' 'warm' 'same'] \n\n['sunny' 'warm' 'normal' 'strong' 'warm' 'same'] \t [['?', '?', '?', '?', '?', '?'], ['?', '?', '?', '?', '?', '?'], ['?', '?', '?', '?', '?', '?'], ['?', '?', '?', '?', '?', '?'], ['?', '?', '?', '?', '?', '?'], ['?', '?', '?', '?', '?', '?']]\n1 \t ['sunny' 'warm' 'high' 'strong' 'warm' 'same'] \n\n['sunny' 'warm' '?' 'strong' 'warm' 'same'] \t [['?', '?', '?', '?', '?', '?'], ['?', '?', '?', '?', '?', '?'], ['?', '?', '?', '?', '?', '?'], ['?', '?', '?', '?', '?', '?'], ['?', '?', '?', '?', '?', '?'], ['?', '?', '?', '?', '?', '?']]\n2 \t ['rainy' 'cold' 'high' 'strong' 'warm' 'change'] \n\n\n\n\n\n[['sunny', '?', '?', '?', '?', '?'], ['?', 'warm', '?', '?', '?', '?'], ['?', '?', '?', '?', '?', '?'], ['?', '?', '?', '?', '?', '?'], ['?', '?', '?', '?', '?', '?'], ['?', '?', '?', '?', '?', 'same']] \n\n3 \t ['sunny' 'warm' 'high' 'strong' 'cool' 'change'] \n\n['sunny' 'warm' '?' 'strong' '?' '?'] \t [['sunny', '?', '?', '?', '?', '?'], ['?', 'warm', '?', '?', '?', '?'], ['?', '?', '?', '?', '?', '?'], ['?', '?', '?', '?', '?', '?'], ['?', '?', '?', '?', '?', '?'], ['?', '?', '?', '?', '?', '?']]\nFinal S: ['sunny' 'warm' '?' 'strong' '?' '?']\nFinal G: [['sunny', '?', '?', '?', '?', '?'], ['?', 'warm', '?', '?', '?', '?']]\n"
    }
   ],
   "source": [
    "s_final, g_final = learn(concepts, target)\n",
    "print(f\"Final S: {s_final}\")\n",
    "print(f\"Final G: {g_final}\")"
   ]
  },
  {
   "cell_type": "code",
   "execution_count": null,
   "metadata": {},
   "outputs": [],
   "source": []
  }
 ],
 "metadata": {
  "kernelspec": {
   "display_name": "Python 3",
   "language": "python",
   "name": "python3"
  },
  "language_info": {
   "codemirror_mode": {
    "name": "ipython",
    "version": 3
   },
   "file_extension": ".py",
   "mimetype": "text/x-python",
   "name": "python",
   "nbconvert_exporter": "python",
   "pygments_lexer": "ipython3",
   "version": "3.7.3"
  },
  "latex_envs": {
   "LaTeX_envs_menu_present": true,
   "autoclose": false,
   "autocomplete": true,
   "bibliofile": "biblio.bib",
   "cite_by": "apalike",
   "current_citInitial": 1,
   "eqLabelWithNumbers": true,
   "eqNumInitial": 1,
   "hotkeys": {
    "equation": "Ctrl-E",
    "itemize": "Ctrl-I"
   },
   "labels_anchors": false,
   "latex_user_defs": false,
   "report_style_numbering": false,
   "user_envs_cfg": false
  },
  "toc": {
   "base_numbering": 1,
   "nav_menu": {},
   "number_sections": true,
   "sideBar": true,
   "skip_h1_title": false,
   "title_cell": "Table of Contents",
   "title_sidebar": "Contents",
   "toc_cell": false,
   "toc_position": {},
   "toc_section_display": true,
   "toc_window_display": false
  },
  "varInspector": {
   "cols": {
    "lenName": 16,
    "lenType": 16,
    "lenVar": 40
   },
   "kernels_config": {
    "python": {
     "delete_cmd_postfix": "",
     "delete_cmd_prefix": "del ",
     "library": "var_list.py",
     "varRefreshCmd": "print(var_dic_list())"
    },
    "r": {
     "delete_cmd_postfix": ") ",
     "delete_cmd_prefix": "rm(",
     "library": "var_list.r",
     "varRefreshCmd": "cat(var_dic_list()) "
    }
   },
   "types_to_exclude": [
    "module",
    "function",
    "builtin_function_or_method",
    "instance",
    "_Feature"
   ],
   "window_display": false
  }
 },
 "nbformat": 4,
 "nbformat_minor": 2
}