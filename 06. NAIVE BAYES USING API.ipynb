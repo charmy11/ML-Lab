{
 "cells": [
  {
   "cell_type": "code",
   "execution_count": 2,
   "metadata": {
    "ExecuteTime": {
     "end_time": "2019-10-18T06:29:15.215023Z",
     "start_time": "2019-10-18T06:29:15.146563Z"
    },
    "scrolled": true
   },
   "outputs": [
    {
     "name": "stdout",
     "output_type": "stream",
     "text": [
      "Total Instances of Dataset:  18\n"
     ]
    }
   ],
   "source": [
    "import pandas as pd\n",
    "\n",
    "msg = pd.read_csv('Datasets/document.csv', names=['message', 'label'])\n",
    "print(\"Total Instances of Dataset: \", msg.shape[0])\n",
    "msg['labelnum'] = msg.label.map({'pos': 1, 'neg': 0})"
   ]
  },
  {
   "cell_type": "code",
   "execution_count": 3,
   "metadata": {
    "ExecuteTime": {
     "end_time": "2019-10-18T06:29:19.807850Z",
     "start_time": "2019-10-18T06:29:17.707009Z"
    }
   },
   "outputs": [],
   "source": [
    "X = msg.message\n",
    "y = msg.labelnum\n",
    "from sklearn.feature_extraction.text import CountVectorizer\n",
    "from sklearn.model_selection import train_test_split\n",
    "\n",
    "X_train, X_test, y_train, y_test = train_test_split(X, y)\n",
    "count_v = CountVectorizer()\n",
    "X_train_dm = count_v.fit_transform(X_train)\n",
    "X_test_dm = count_v.transform(X_test)"
   ]
  },
  {
   "cell_type": "code",
   "execution_count": 6,
   "metadata": {
    "ExecuteTime": {
     "end_time": "2019-10-18T06:29:30.590151Z",
     "start_time": "2019-10-18T06:29:30.576913Z"
    }
   },
   "outputs": [],
   "source": [
    "df = pd.DataFrame(X_train_dm.toarray(), columns=count_v.get_feature_names())\n",
    "# df[0:5]"
   ]
  },
  {
   "cell_type": "code",
   "execution_count": 7,
   "metadata": {
    "ExecuteTime": {
     "end_time": "2019-10-18T06:29:32.210284Z",
     "start_time": "2019-10-18T06:29:32.157311Z"
    }
   },
   "outputs": [
    {
     "name": "stdout",
     "output_type": "stream",
     "text": [
      "I can't deal with this -> pos\n",
      "I do not like the taste of this juice -> pos\n",
      "I went to my enemy's house today -> pos\n",
      "This is my best work -> neg\n",
      "I am sick and tired of this place -> pos\n"
     ]
    }
   ],
   "source": [
    "from sklearn.naive_bayes import MultinomialNB\n",
    "\n",
    "clf = MultinomialNB()\n",
    "clf.fit(X_train_dm, y_train)\n",
    "pred = clf.predict(X_test_dm)\n",
    "for doc, p in zip(X_train, pred):\n",
    "    p = 'pos' if p == 1 else 'neg'\n",
    "    print(f\"{doc} -> {p}\")"
   ]
  },
  {
   "cell_type": "code",
   "execution_count": 8,
   "metadata": {
    "ExecuteTime": {
     "end_time": "2019-10-18T06:29:34.370127Z",
     "start_time": "2019-10-18T06:29:34.344374Z"
    }
   },
   "outputs": [
    {
     "name": "stdout",
     "output_type": "stream",
     "text": [
      "Accuracy Metrics: \n",
      "\n",
      "Accuracy:  0.8\n",
      "Recall:  1.0\n",
      "Precision:  0.75\n",
      "Confusion Matrix: \n",
      " [[1 1]\n",
      " [0 3]]\n"
     ]
    }
   ],
   "source": [
    "from sklearn.metrics import (accuracy_score, confusion_matrix, precision_score,\n",
    "                             recall_score)\n",
    "\n",
    "print('Accuracy Metrics: \\n')\n",
    "print('Accuracy: ', accuracy_score(y_test, pred))\n",
    "print('Recall: ', recall_score(y_test, pred))\n",
    "print('Precision: ', precision_score(y_test, pred))\n",
    "print('Confusion Matrix: \\n', confusion_matrix(y_test, pred))"
   ]
  },
  {
   "cell_type": "code",
   "execution_count": null,
   "metadata": {},
   "outputs": [],
   "source": []
  }
 ],
 "metadata": {
  "kernelspec": {
   "display_name": "Python 3",
   "language": "python",
   "name": "python3"
  },
  "language_info": {
   "codemirror_mode": {
    "name": "ipython",
    "version": 3
   },
   "file_extension": ".py",
   "mimetype": "text/x-python",
   "name": "python",
   "nbconvert_exporter": "python",
   "pygments_lexer": "ipython3",
   "version": "3.7.5rc1"
  },
  "latex_envs": {
   "LaTeX_envs_menu_present": true,
   "autoclose": false,
   "autocomplete": true,
   "bibliofile": "biblio.bib",
   "cite_by": "apalike",
   "current_citInitial": 1,
   "eqLabelWithNumbers": true,
   "eqNumInitial": 1,
   "hotkeys": {
    "equation": "Ctrl-E",
    "itemize": "Ctrl-I"
   },
   "labels_anchors": false,
   "latex_user_defs": false,
   "report_style_numbering": false,
   "user_envs_cfg": false
  },
  "toc": {
   "base_numbering": 1,
   "nav_menu": {},
   "number_sections": true,
   "sideBar": true,
   "skip_h1_title": false,
   "title_cell": "Table of Contents",
   "title_sidebar": "Contents",
   "toc_cell": false,
   "toc_position": {},
   "toc_section_display": true,
   "toc_window_display": false
  },
  "varInspector": {
   "cols": {
    "lenName": 16,
    "lenType": 16,
    "lenVar": 40
   },
   "kernels_config": {
    "python": {
     "delete_cmd_postfix": "",
     "delete_cmd_prefix": "del ",
     "library": "var_list.py",
     "varRefreshCmd": "print(var_dic_list())"
    },
    "r": {
     "delete_cmd_postfix": ") ",
     "delete_cmd_prefix": "rm(",
     "library": "var_list.r",
     "varRefreshCmd": "cat(var_dic_list()) "
    }
   },
   "types_to_exclude": [
    "module",
    "function",
    "builtin_function_or_method",
    "instance",
    "_Feature"
   ],
   "window_display": false
  }
 },
 "nbformat": 4,
 "nbformat_minor": 2
}
